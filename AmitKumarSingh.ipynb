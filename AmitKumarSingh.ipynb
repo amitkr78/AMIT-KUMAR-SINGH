{
  "nbformat": 4,
  "nbformat_minor": 0,
  "metadata": {
    "kernelspec": {
      "display_name": "Python 3",
      "language": "python",
      "name": "python3"
    },
    "language_info": {
      "codemirror_mode": {
        "name": "ipython",
        "version": 3
      },
      "file_extension": ".py",
      "mimetype": "text/x-python",
      "name": "python",
      "nbconvert_exporter": "python",
      "pygments_lexer": "ipython3",
      "version": "3.8.3"
    },
    "colab": {
      "name": "Project Clustering Blobs.ipynb",
      "provenance": []
    }
  },
  "cells": [
    {
      "cell_type": "markdown",
      "metadata": {
        "id": "K6uszEF-tg6Q"
      },
      "source": [
        "# Unsupervised Machine Learning - KMeans\n",
        "\n",
        "Support vector machines (SVMs) are a set of supervised learning methods used for classification, regression and outliers detection. SVMs are one of the most robust prediction methods. \n",
        "\n",
        "Sources: \n",
        "[sklearn](https://scikit-learn.org/stable/modules/generated/sklearn.cluster.KMeans.html?highlight=kmeans#sklearn.cluster.KMeans), [wikipedia](https://en.wikipedia.org/wiki/K-means_clustering)"
      ]
    },
    {
      "cell_type": "markdown",
      "metadata": {
        "id": "fUB89AR6C5Br"
      },
      "source": [
        "![kmeans.png](https://www.mathworks.com/matlabcentral/mlc-downloads/downloads/submissions/52579/versions/9/screenshot.jpg)"
      ]
    },
    {
      "cell_type": "code",
      "metadata": {
        "id": "p9zLaoJz1EbL"
      },
      "source": [
        ""
      ],
      "execution_count": null,
      "outputs": []
    },
    {
      "cell_type": "code",
      "metadata": {
        "id": "tB7r7RXb1EbM"
      },
      "source": [
        "import pandas as pd\n",
        "import numpy as np\n",
        "import matplotlib.pyplot as plt\n",
        "from sklearn import datasets\n"
      ],
      "execution_count": 4,
      "outputs": []
    },
    {
      "cell_type": "code",
      "metadata": {
        "id": "BBxYoAKy1EbM"
      },
      "source": [
        "# Take make moons in built dataset\n",
        "\n",
        "data_ = datasets.make_circles(100)"
      ],
      "execution_count": 6,
      "outputs": []
    },
    {
      "cell_type": "code",
      "metadata": {
        "colab": {
          "base_uri": "https://localhost:8080/"
        },
        "id": "Uqd6yu6l1EbN",
        "outputId": "7c9413d2-f1b1-4838-aa10-79ea9f0cf896"
      },
      "source": [
        "# check the dataset\n",
        "\n",
        "data_"
      ],
      "execution_count": 7,
      "outputs": [
        {
          "output_type": "execute_result",
          "data": {
            "text/plain": [
              "(array([[ 4.28661436e-01,  6.75462340e-01],\n",
              "        [ 5.09939192e-01,  6.16410594e-01],\n",
              "        [-9.68583161e-01,  2.48689887e-01],\n",
              "        [ 7.93691761e-01, -1.00266587e-01],\n",
              "        [-7.01045344e-01, -3.85402939e-01],\n",
              "        [ 3.09016994e-01, -9.51056516e-01],\n",
              "        [-2.47213595e-01, -7.60845213e-01],\n",
              "        [-5.02324156e-02, -7.98421383e-01],\n",
              "        [ 3.40623433e-01,  7.23861642e-01],\n",
              "        [-3.40623433e-01, -7.23861642e-01],\n",
              "        [ 5.02324156e-02, -7.98421383e-01],\n",
              "        [ 3.40623433e-01, -7.23861642e-01],\n",
              "        [-8.76306680e-01,  4.81753674e-01],\n",
              "        [ 9.68583161e-01,  2.48689887e-01],\n",
              "        [-7.28968627e-01, -6.84547106e-01],\n",
              "        [ 4.28661436e-01, -6.75462340e-01],\n",
              "        [ 5.02324156e-02,  7.98421383e-01],\n",
              "        [-8.09016994e-01, -5.87785252e-01],\n",
              "        [ 8.00000000e-01,  0.00000000e+00],\n",
              "        [-7.93691761e-01, -1.00266587e-01],\n",
              "        [ 7.28968627e-01,  6.84547106e-01],\n",
              "        [ 8.09016994e-01,  5.87785252e-01],\n",
              "        [ 9.92114701e-01, -1.25333234e-01],\n",
              "        [-1.49905052e-01, -7.85829801e-01],\n",
              "        [ 7.43821189e-01, -2.94499642e-01],\n",
              "        [ 6.37423990e-01, -7.70513243e-01],\n",
              "        [ 7.01045344e-01,  3.85402939e-01],\n",
              "        [ 8.09016994e-01, -5.87785252e-01],\n",
              "        [-6.27905195e-02,  9.98026728e-01],\n",
              "        [ 9.29776486e-01,  3.68124553e-01],\n",
              "        [-6.47213595e-01,  4.70228202e-01],\n",
              "        [-5.83174902e-01,  5.47637685e-01],\n",
              "        [-8.09016994e-01,  5.87785252e-01],\n",
              "        [-7.28968627e-01,  6.84547106e-01],\n",
              "        [-7.01045344e-01,  3.85402939e-01],\n",
              "        [-4.28661436e-01, -6.75462340e-01],\n",
              "        [ 5.09939192e-01, -6.16410594e-01],\n",
              "        [ 7.28968627e-01, -6.84547106e-01],\n",
              "        [-8.00000000e-01, -2.57299624e-16],\n",
              "        [ 2.47213595e-01,  7.60845213e-01],\n",
              "        [-6.27905195e-02, -9.98026728e-01],\n",
              "        [-4.25779292e-01, -9.04827052e-01],\n",
              "        [ 1.49905052e-01, -7.85829801e-01],\n",
              "        [-3.40623433e-01,  7.23861642e-01],\n",
              "        [-9.68583161e-01, -2.48689887e-01],\n",
              "        [ 5.35826795e-01,  8.44327926e-01],\n",
              "        [ 9.68583161e-01, -2.48689887e-01],\n",
              "        [-7.74866529e-01,  1.98951910e-01],\n",
              "        [-5.02324156e-02,  7.98421383e-01],\n",
              "        [-1.87381315e-01, -9.82287251e-01],\n",
              "        [ 6.27905195e-02, -9.98026728e-01],\n",
              "        [-3.09016994e-01, -9.51056516e-01],\n",
              "        [-1.87381315e-01,  9.82287251e-01],\n",
              "        [-5.09939192e-01, -6.16410594e-01],\n",
              "        [-8.76306680e-01, -4.81753674e-01],\n",
              "        [ 8.76306680e-01,  4.81753674e-01],\n",
              "        [-7.93691761e-01,  1.00266587e-01],\n",
              "        [ 4.25779292e-01,  9.04827052e-01],\n",
              "        [-7.43821189e-01, -2.94499642e-01],\n",
              "        [-6.47213595e-01, -4.70228202e-01],\n",
              "        [ 7.43821189e-01,  2.94499642e-01],\n",
              "        [ 7.74866529e-01, -1.98951910e-01],\n",
              "        [ 5.83174902e-01, -5.47637685e-01],\n",
              "        [ 5.83174902e-01,  5.47637685e-01],\n",
              "        [-5.09939192e-01,  6.16410594e-01],\n",
              "        [ 7.01045344e-01, -3.85402939e-01],\n",
              "        [-9.92114701e-01,  1.25333234e-01],\n",
              "        [-9.92114701e-01, -1.25333234e-01],\n",
              "        [-7.74866529e-01, -1.98951910e-01],\n",
              "        [ 2.47213595e-01, -7.60845213e-01],\n",
              "        [ 1.87381315e-01, -9.82287251e-01],\n",
              "        [-2.47213595e-01,  7.60845213e-01],\n",
              "        [-5.35826795e-01,  8.44327926e-01],\n",
              "        [-4.28661436e-01,  6.75462340e-01],\n",
              "        [-7.43821189e-01,  2.94499642e-01],\n",
              "        [-3.09016994e-01,  9.51056516e-01],\n",
              "        [-4.25779292e-01,  9.04827052e-01],\n",
              "        [ 7.74866529e-01,  1.98951910e-01],\n",
              "        [ 7.93691761e-01,  1.00266587e-01],\n",
              "        [ 3.09016994e-01,  9.51056516e-01],\n",
              "        [ 1.87381315e-01,  9.82287251e-01],\n",
              "        [ 6.47213595e-01, -4.70228202e-01],\n",
              "        [-6.37423990e-01, -7.70513243e-01],\n",
              "        [-1.49905052e-01,  7.85829801e-01],\n",
              "        [ 9.29776486e-01, -3.68124553e-01],\n",
              "        [-9.29776486e-01,  3.68124553e-01],\n",
              "        [ 9.92114701e-01,  1.25333234e-01],\n",
              "        [-5.35826795e-01, -8.44327926e-01],\n",
              "        [ 6.47213595e-01,  4.70228202e-01],\n",
              "        [ 6.27905195e-02,  9.98026728e-01],\n",
              "        [ 5.35826795e-01, -8.44327926e-01],\n",
              "        [ 1.00000000e+00,  0.00000000e+00],\n",
              "        [ 1.49905052e-01,  7.85829801e-01],\n",
              "        [ 4.25779292e-01, -9.04827052e-01],\n",
              "        [ 6.37423990e-01,  7.70513243e-01],\n",
              "        [-6.37423990e-01,  7.70513243e-01],\n",
              "        [-5.83174902e-01, -5.47637685e-01],\n",
              "        [-9.29776486e-01, -3.68124553e-01],\n",
              "        [ 8.76306680e-01, -4.81753674e-01],\n",
              "        [-1.00000000e+00, -3.21624530e-16]]),\n",
              " array([1, 1, 0, 1, 1, 0, 1, 1, 1, 1, 1, 1, 0, 0, 0, 1, 1, 0, 1, 1, 0, 0,\n",
              "        0, 1, 1, 0, 1, 0, 0, 0, 1, 1, 0, 0, 1, 1, 1, 0, 1, 1, 0, 0, 1, 1,\n",
              "        0, 0, 0, 1, 1, 0, 0, 0, 0, 1, 0, 0, 1, 0, 1, 1, 1, 1, 1, 1, 1, 1,\n",
              "        0, 0, 1, 1, 0, 1, 0, 1, 1, 0, 0, 1, 1, 0, 0, 1, 0, 1, 0, 0, 0, 0,\n",
              "        1, 0, 0, 0, 1, 0, 0, 0, 1, 0, 0, 0]))"
            ]
          },
          "metadata": {
            "tags": []
          },
          "execution_count": 7
        }
      ]
    },
    {
      "cell_type": "code",
      "metadata": {
        "id": "59iRb1Eb1EbN"
      },
      "source": [
        "# create input dataframe\n",
        "\n",
        "inputData = pd.DataFrame(data=data_[0])"
      ],
      "execution_count": 8,
      "outputs": []
    },
    {
      "cell_type": "code",
      "metadata": {
        "colab": {
          "base_uri": "https://localhost:8080/",
          "height": 202
        },
        "id": "-IQUZ2yn1EbO",
        "outputId": "7a0c9f9c-591d-45fb-f093-49921bb9955d"
      },
      "source": [
        "inputData.head()"
      ],
      "execution_count": 9,
      "outputs": [
        {
          "output_type": "execute_result",
          "data": {
            "text/html": [
              "<div>\n",
              "<style scoped>\n",
              "    .dataframe tbody tr th:only-of-type {\n",
              "        vertical-align: middle;\n",
              "    }\n",
              "\n",
              "    .dataframe tbody tr th {\n",
              "        vertical-align: top;\n",
              "    }\n",
              "\n",
              "    .dataframe thead th {\n",
              "        text-align: right;\n",
              "    }\n",
              "</style>\n",
              "<table border=\"1\" class=\"dataframe\">\n",
              "  <thead>\n",
              "    <tr style=\"text-align: right;\">\n",
              "      <th></th>\n",
              "      <th>0</th>\n",
              "      <th>1</th>\n",
              "    </tr>\n",
              "  </thead>\n",
              "  <tbody>\n",
              "    <tr>\n",
              "      <th>0</th>\n",
              "      <td>0.428661</td>\n",
              "      <td>0.675462</td>\n",
              "    </tr>\n",
              "    <tr>\n",
              "      <th>1</th>\n",
              "      <td>0.509939</td>\n",
              "      <td>0.616411</td>\n",
              "    </tr>\n",
              "    <tr>\n",
              "      <th>2</th>\n",
              "      <td>-0.968583</td>\n",
              "      <td>0.248690</td>\n",
              "    </tr>\n",
              "    <tr>\n",
              "      <th>3</th>\n",
              "      <td>0.793692</td>\n",
              "      <td>-0.100267</td>\n",
              "    </tr>\n",
              "    <tr>\n",
              "      <th>4</th>\n",
              "      <td>-0.701045</td>\n",
              "      <td>-0.385403</td>\n",
              "    </tr>\n",
              "  </tbody>\n",
              "</table>\n",
              "</div>"
            ],
            "text/plain": [
              "          0         1\n",
              "0  0.428661  0.675462\n",
              "1  0.509939  0.616411\n",
              "2 -0.968583  0.248690\n",
              "3  0.793692 -0.100267\n",
              "4 -0.701045 -0.385403"
            ]
          },
          "metadata": {
            "tags": []
          },
          "execution_count": 9
        }
      ]
    },
    {
      "cell_type": "code",
      "metadata": {
        "colab": {
          "base_uri": "https://localhost:8080/",
          "height": 202
        },
        "id": "4dQWfYrI1EbO",
        "outputId": "3fdd3412-b52b-4689-f6e7-b9acbedcd603"
      },
      "source": [
        "# create output dataframe\n",
        "\n",
        "outputData =  pd.DataFrame(data = data_[1])\n",
        "outputData.head()"
      ],
      "execution_count": 10,
      "outputs": [
        {
          "output_type": "execute_result",
          "data": {
            "text/html": [
              "<div>\n",
              "<style scoped>\n",
              "    .dataframe tbody tr th:only-of-type {\n",
              "        vertical-align: middle;\n",
              "    }\n",
              "\n",
              "    .dataframe tbody tr th {\n",
              "        vertical-align: top;\n",
              "    }\n",
              "\n",
              "    .dataframe thead th {\n",
              "        text-align: right;\n",
              "    }\n",
              "</style>\n",
              "<table border=\"1\" class=\"dataframe\">\n",
              "  <thead>\n",
              "    <tr style=\"text-align: right;\">\n",
              "      <th></th>\n",
              "      <th>0</th>\n",
              "    </tr>\n",
              "  </thead>\n",
              "  <tbody>\n",
              "    <tr>\n",
              "      <th>0</th>\n",
              "      <td>1</td>\n",
              "    </tr>\n",
              "    <tr>\n",
              "      <th>1</th>\n",
              "      <td>1</td>\n",
              "    </tr>\n",
              "    <tr>\n",
              "      <th>2</th>\n",
              "      <td>0</td>\n",
              "    </tr>\n",
              "    <tr>\n",
              "      <th>3</th>\n",
              "      <td>1</td>\n",
              "    </tr>\n",
              "    <tr>\n",
              "      <th>4</th>\n",
              "      <td>1</td>\n",
              "    </tr>\n",
              "  </tbody>\n",
              "</table>\n",
              "</div>"
            ],
            "text/plain": [
              "   0\n",
              "0  1\n",
              "1  1\n",
              "2  0\n",
              "3  1\n",
              "4  1"
            ]
          },
          "metadata": {
            "tags": []
          },
          "execution_count": 10
        }
      ]
    },
    {
      "cell_type": "code",
      "metadata": {
        "colab": {
          "base_uri": "https://localhost:8080/",
          "height": 281
        },
        "id": "YavO02oq1EbP",
        "outputId": "3a00dcdf-0e00-419b-b2e8-d132433ad611"
      },
      "source": [
        "# create a scatter plot for inputData set\n",
        "plt.scatter(inputData[0], inputData[1])\n"
      ],
      "execution_count": 11,
      "outputs": [
        {
          "output_type": "execute_result",
          "data": {
            "text/plain": [
              "<matplotlib.collections.PathCollection at 0x7f2036c72b50>"
            ]
          },
          "metadata": {
            "tags": []
          },
          "execution_count": 11
        },
        {
          "output_type": "display_data",
          "data": {
            "image/png": "[encoded data removed]",
            "text/plain": [
              "<Figure size 432x288 with 1 Axes>"
            ]
          },
          "metadata": {
            "tags": [],
            "needs_background": "light"
          }
        }
      ]
    },
    {
      "cell_type": "code",
      "metadata": {
        "colab": {
          "base_uri": "https://localhost:8080/",
          "height": 281
        },
        "id": "LQJKEylC1EbQ",
        "outputId": "ec379c33-2385-4301-8707-a3a81724d538"
      },
      "source": [
        "# create a scatter plot for inputData set with outputData color\n",
        "plt.scatter(inputData[0], inputData[1], c = outputData)\n"
      ],
      "execution_count": 12,
      "outputs": [
        {
          "output_type": "execute_result",
          "data": {
            "text/plain": [
              "<matplotlib.collections.PathCollection at 0x7f2036c728d0>"
            ]
          },
          "metadata": {
            "tags": []
          },
          "execution_count": 12
        },
        {
          "output_type": "display_data",
          "data": {
            "image/png": "[encoded data removed]",
            "text/plain": [
              "<Figure size 432x288 with 1 Axes>"
            ]
          },
          "metadata": {
            "tags": [],
            "needs_background": "light"
          }
        }
      ]
    },
    {
      "cell_type": "code",
      "metadata": {
        "id": "7DQm5coU1EbQ"
      },
      "source": [
        "\n"
      ],
      "execution_count": 23,
      "outputs": []
    },
    {
      "cell_type": "code",
      "metadata": {
        "colab": {
          "base_uri": "https://localhost:8080/"
        },
        "id": "PTd_yz-R1EbR",
        "outputId": "2e47b9ef-66bb-4324-bd6b-25eca4f229f7"
      },
      "source": [
        "# Call the sklearn Kmeans and make a model with 200 samples\n",
        "\n",
        "\n",
        "from sklearn.cluster import KMeans\n",
        "model = KMeans(n_clusters=5)\n",
        "model.fit(inputData)\n",
        "#model_fit"
      ],
      "execution_count": 29,
      "outputs": [
        {
          "output_type": "execute_result",
          "data": {
            "text/plain": [
              "KMeans(algorithm='auto', copy_x=True, init='k-means++', max_iter=300,\n",
              "       n_clusters=5, n_init=10, n_jobs=None, precompute_distances='auto',\n",
              "       random_state=None, tol=0.0001, verbose=0)"
            ]
          },
          "metadata": {
            "tags": []
          },
          "execution_count": 29
        }
      ]
    },
    {
      "cell_type": "code",
      "metadata": {
        "colab": {
          "base_uri": "https://localhost:8080/"
        },
        "id": "lv4zKjlB1EbR",
        "outputId": "a7fada24-9975-4c55-f06c-6da43e071b12"
      },
      "source": [
        "# check for labels\n",
        "model.labels_\n"
      ],
      "execution_count": 16,
      "outputs": [
        {
          "output_type": "execute_result",
          "data": {
            "text/plain": [
              "array([3, 3, 4, 2, 4, 1, 1, 1, 3, 1, 1, 1, 0, 2, 4, 1, 3, 4, 2, 4, 3, 3,\n",
              "       2, 1, 2, 1, 3, 2, 0, 2, 0, 0, 0, 0, 0, 1, 1, 2, 4, 3, 1, 1, 1, 0,\n",
              "       4, 3, 2, 4, 0, 1, 1, 1, 0, 4, 4, 3, 4, 3, 4, 4, 2, 2, 2, 3, 0, 2,\n",
              "       4, 4, 4, 1, 1, 0, 0, 0, 0, 0, 0, 2, 2, 3, 3, 2, 4, 0, 2, 0, 2, 1,\n",
              "       3, 3, 1, 2, 3, 1, 3, 0, 4, 4, 2, 4], dtype=int32)"
            ]
          },
          "metadata": {
            "tags": []
          },
          "execution_count": 16
        }
      ]
    },
    {
      "cell_type": "code",
      "metadata": {
        "id": "qnrX2_nM1EbR"
      },
      "source": [
        "from sklearn import metrics"
      ],
      "execution_count": 18,
      "outputs": []
    },
    {
      "cell_type": "code",
      "metadata": {
        "colab": {
          "base_uri": "https://localhost:8080/"
        },
        "id": "9UaIVuxZ1EbS",
        "outputId": "3f42188a-4471-426e-d066-252e53557ad2"
      },
      "source": [
        "# call metrics and check silhoutte score\n",
        "metrics.silhouette_score(inputData, model.labels_)\n"
      ],
      "execution_count": 19,
      "outputs": [
        {
          "output_type": "execute_result",
          "data": {
            "text/plain": [
              "0.445446171040731"
            ]
          },
          "metadata": {
            "tags": []
          },
          "execution_count": 19
        }
      ]
    },
    {
      "cell_type": "code",
      "metadata": {
        "colab": {
          "base_uri": "https://localhost:8080/",
          "height": 281
        },
        "id": "tdE7rfb91EbS",
        "outputId": "21812e0e-4cea-44d6-a28a-af9a629fa528"
      },
      "source": [
        "# create a scatter plot for inputData set with model labels color\n",
        "plt.scatter(inputData[0], inputData[1], c = model.labels_)\n"
      ],
      "execution_count": 20,
      "outputs": [
        {
          "output_type": "execute_result",
          "data": {
            "text/plain": [
              "<matplotlib.collections.PathCollection at 0x7f2036c08a50>"
            ]
          },
          "metadata": {
            "tags": []
          },
          "execution_count": 20
        },
        {
          "output_type": "display_data",
          "data": {
            "image/png": "[encoded data removed]",
            "text/plain": [
              "<Figure size 432x288 with 1 Axes>"
            ]
          },
          "metadata": {
            "tags": [],
            "needs_background": "light"
          }
        }
      ]
    },
    {
      "cell_type": "markdown",
      "metadata": {
        "id": "sw6DkoWE1EbT"
      },
      "source": [
        "#### finding right number of cluster"
      ]
    },
    {
      "cell_type": "code",
      "metadata": {
        "id": "mWmnDmAs1EbT"
      },
      "source": [
        "cluster_range = range(1, 20)\n",
        "error_list = []\n",
        "\n",
        "for i in cluster_range:\n",
        "    model = KMeans(n_clusters=i)\n",
        "    model.fit(inputData)\n",
        "    res = model.inertia_\n",
        "    error_list.append(res)"
      ],
      "execution_count": 21,
      "outputs": []
    },
    {
      "cell_type": "code",
      "metadata": {
        "colab": {
          "base_uri": "https://localhost:8080/",
          "height": 294
        },
        "id": "5tHje2UX1EbT",
        "outputId": "cf9f29d0-9bfa-417d-d436-4b1df77d07f0"
      },
      "source": [
        "import matplotlib.pyplot as plt\n",
        "\n",
        "plt.plot(cluster_range, error_list, marker = \"o\", color = \"g\", markersize = 10)\n",
        "plt.xlabel(\"Cluster Range\")\n",
        "plt.ylabel(\"IntraCluster Sum\")\n",
        "plt.title(\"KMeans\")\n",
        "plt.show()"
      ],
      "execution_count": 22,
      "outputs": [
        {
          "output_type": "display_data",
          "data": {
            "image/png": "[encoded data removed]",
            "text/plain": [
              "<Figure size 432x288 with 1 Axes>"
            ]
          },
          "metadata": {
            "tags": [],
            "needs_background": "light"
          }
        }
      ]
    },
    {
      "cell_type": "code",
      "metadata": {
        "id": "7lfqQgU_1EbU"
      },
      "source": [
        ""
      ],
      "execution_count": null,
      "outputs": []
    },
    {
      "cell_type": "code",
      "metadata": {
        "id": "ESzW96Mk1EbU"
      },
      "source": [
        ""
      ],
      "execution_count": null,
      "outputs": []
    }
  ]
}